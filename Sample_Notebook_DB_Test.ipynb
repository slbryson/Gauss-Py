{
 "metadata": {
  "name": "",
  "signature": "sha256:cd2c6f37ffa692876e7de575296a7b9ee4877764da20a6cc9d4d81a3a0164ba4"
 },
 "nbformat": 3,
 "nbformat_minor": 0,
 "worksheets": [
  {
   "cells": [
    {
     "cell_type": "markdown",
     "metadata": {},
     "source": [
      "Test Reading of Database for errors"
     ]
    },
    {
     "cell_type": "code",
     "collapsed": false,
     "input": [
      "## Command used to import function: %load getwcdma_linux.py"
     ],
     "language": "python",
     "metadata": {},
     "outputs": [],
     "prompt_number": 1
    },
    {
     "cell_type": "code",
     "collapsed": false,
     "input": [
      "import os\n",
      "import numpy as np\n",
      "import matplotlib\n",
      "import get_loc_linux2\n",
      "\n",
      "name2, lat, lon = get_loc_linux2.get_loc()\n",
      " \n",
      "if False:\n",
      "    lat = lat.tolist()\n",
      "    lon = lon.tolist()\n",
      "    name2 = name2.tolist()"
     ],
     "language": "python",
     "metadata": {},
     "outputs": [
      {
       "output_type": "stream",
       "stream": "stdout",
       "text": [
        "wms_kpi.dbo.location\n",
        "select * from wms_kpi.dbo.location\n",
        "[ 40.74344254]"
       ]
      },
      {
       "output_type": "stream",
       "stream": "stdout",
       "text": [
        " ['NYSCU1006J'] [-73.98264313]\n",
        "[ 40.74214172] ['NYSCU1006K'] [-73.98039246]\n",
        "[ 40.74139404] ['NYSCU1006L'] [-73.98319244]\n",
        "[ 40.74148941] ['NYSCU1136A'] [-73.98187256]\n",
        "[ 40.73944092] ['NYSCU1136B'] [-73.98132324]\n",
        "[ 40.74148941] ['NYSCU1136J'] [-73.98187256]\n",
        "[ 40.73944092] ['NYSCU1136K'] [-73.98132324]\n",
        "[ 40.7393837] ['NYSCU1446A'] [-73.98766327]\n",
        "[ 40.7393837] ['NYSCU1446B'] [-73.98766327]\n",
        "[ 40.73894501] ['NYSCU1446C'] [-73.98660278]\n",
        "[ 40.7393837] ['NYSCU1446J'] [-73.98766327]\n",
        "[ 40.7393837] ['NYSCU1446K'] [-73.98766327]\n",
        "[ 40.73894501] ['NYSCU1446L'] [-73.98660278]\n",
        "[ 40.73986816] ['NYSCU3029D'] [-73.98162079]\n",
        "[ 40.73932266] ['NYSCU3029E'] [-73.9836731]\n"
       ]
      }
     ],
     "prompt_number": 2
    },
    {
     "cell_type": "code",
     "collapsed": false,
     "input": [
      "print name2[5], type(name2)"
     ],
     "language": "python",
     "metadata": {},
     "outputs": [
      {
       "output_type": "stream",
       "stream": "stdout",
       "text": [
        "['NYCMU0610J'] <class 'numpy.core.defchararray.chararray'>\n"
       ]
      }
     ],
     "prompt_number": 3
    },
    {
     "cell_type": "code",
     "collapsed": false,
     "input": [
      "cellid,pssrrc, kk = getwcdma()"
     ],
     "language": "python",
     "metadata": {},
     "outputs": [
      {
       "ename": "TypeError",
       "evalue": "data type \"select * from wms_kpi.dbo.test\" not understood",
       "output_type": "pyerr",
       "traceback": [
        "\u001b[1;31m---------------------------------------------------------------------------\u001b[0m\n\u001b[1;31mTypeError\u001b[0m                                 Traceback (most recent call last)",
        "\u001b[1;32m<ipython-input-4-51434269086a>\u001b[0m in \u001b[0;36m<module>\u001b[1;34m()\u001b[0m\n\u001b[1;32m----> 1\u001b[1;33m \u001b[0mcellid\u001b[0m\u001b[1;33m,\u001b[0m\u001b[0mpssrrc\u001b[0m\u001b[1;33m,\u001b[0m \u001b[0mkk\u001b[0m \u001b[1;33m=\u001b[0m \u001b[0mgetwcdma\u001b[0m\u001b[1;33m(\u001b[0m\u001b[1;33m)\u001b[0m\u001b[1;33m\u001b[0m\u001b[0m\n\u001b[0m",
        "\u001b[1;32m<ipython-input-1-a123ac43e4d4>\u001b[0m in \u001b[0;36mgetwcdma\u001b[1;34m()\u001b[0m\n\u001b[0;32m     35\u001b[0m         \u001b[0mpsrrc\u001b[0m\u001b[1;33m=\u001b[0m \u001b[0mnp\u001b[0m\u001b[1;33m.\u001b[0m\u001b[0mzeros\u001b[0m\u001b[1;33m(\u001b[0m\u001b[1;33m(\u001b[0m\u001b[0mhowmany\u001b[0m\u001b[1;33m,\u001b[0m\u001b[1;36m1\u001b[0m\u001b[1;33m)\u001b[0m\u001b[1;33m)\u001b[0m\u001b[1;33m\u001b[0m\u001b[0m\n\u001b[0;32m     36\u001b[0m         \u001b[0mcsrrc\u001b[0m\u001b[1;33m=\u001b[0m \u001b[0mnp\u001b[0m\u001b[1;33m.\u001b[0m\u001b[0mzeros\u001b[0m\u001b[1;33m(\u001b[0m\u001b[1;33m(\u001b[0m\u001b[0mhowmany\u001b[0m\u001b[1;33m,\u001b[0m\u001b[1;36m1\u001b[0m\u001b[1;33m)\u001b[0m\u001b[1;33m)\u001b[0m\u001b[1;33m\u001b[0m\u001b[0m\n\u001b[1;32m---> 37\u001b[1;33m         \u001b[0mcellid\u001b[0m \u001b[1;33m=\u001b[0m \u001b[0mnp\u001b[0m\u001b[1;33m.\u001b[0m\u001b[0marray\u001b[0m\u001b[1;33m(\u001b[0m\u001b[1;33m(\u001b[0m\u001b[0mhowmany\u001b[0m\u001b[1;33m,\u001b[0m\u001b[1;36m1\u001b[0m\u001b[1;33m)\u001b[0m\u001b[1;33m,\u001b[0m\u001b[0mdtype\u001b[0m\u001b[1;33m=\u001b[0m\u001b[0mstr\u001b[0m\u001b[1;33m)\u001b[0m\u001b[1;33m\u001b[0m\u001b[0m\n\u001b[0m\u001b[0;32m     38\u001b[0m     \u001b[1;31m#cellid = np.chararray((howmany,1), itemsize=20)\u001b[0m\u001b[1;33m\u001b[0m\u001b[1;33m\u001b[0m\u001b[0m\n\u001b[0;32m     39\u001b[0m         \u001b[1;32mif\u001b[0m \u001b[0mFalse\u001b[0m\u001b[1;33m:\u001b[0m\u001b[1;33m\u001b[0m\u001b[0m\n",
        "\u001b[1;31mTypeError\u001b[0m: data type \"select * from wms_kpi.dbo.test\" not understood"
       ]
      }
     ],
     "prompt_number": 4
    },
    {
     "cell_type": "code",
     "collapsed": false,
     "input": [
      "for row in range(5,10):\n",
      "    print cellid[row]\n",
      "\n",
      "print len(kk), kk[3][1]"
     ],
     "language": "python",
     "metadata": {},
     "outputs": [
      {
       "output_type": "stream",
       "stream": "stdout",
       "text": [
        "NYSCU1335A\n",
        "NYNYU1232A\n",
        "NYNYU2040A\n",
        "NYSCU1151A\n",
        "NYSCU1335A\n",
        "1734 NYSCU5163A\n"
       ]
      }
     ],
     "prompt_number": 28
    },
    {
     "cell_type": "code",
     "collapsed": false,
     "input": [
      "numpy.version.version"
     ],
     "language": "python",
     "metadata": {},
     "outputs": [
      {
       "metadata": {},
       "output_type": "pyout",
       "prompt_number": 5,
       "text": [
        "'1.8.1'"
       ]
      }
     ],
     "prompt_number": 5
    },
    {
     "cell_type": "code",
     "collapsed": false,
     "input": [],
     "language": "python",
     "metadata": {},
     "outputs": []
    }
   ],
   "metadata": {}
  }
 ]
}