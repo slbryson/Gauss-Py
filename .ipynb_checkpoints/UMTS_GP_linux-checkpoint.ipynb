{
 "metadata": {
  "name": ""
 },
 "nbformat": 3,
 "nbformat_minor": 0,
 "worksheets": [
  {
   "cells": [
    {
     "cell_type": "code",
     "collapsed": false,
     "input": [
      "import pylab as pb\n",
      "pb.ion()\n",
      "import numpy as np\n",
      "import matplotlib.pyplot\n",
      "import GPy\n",
      "import random\n",
      "import get_loc_linux2  # Need to change to _linux\n",
      "import getwcdma_linux\n",
      "import time"
     ],
     "language": "python",
     "metadata": {},
     "outputs": [],
     "prompt_number": 1
    },
    {
     "cell_type": "code",
     "collapsed": false,
     "input": [
      "#Test the UMTS GP processing on Dummy Data\n",
      "# Create some dummy location data\n",
      "#Match an index and perform the operations\n",
      "\n",
      "\n",
      "\n",
      "date =name =[]\n",
      "name = 'cellid'\n",
      "lat =[]\n",
      "lon=[]\n",
      "loc_length = 20\n",
      "#build and id list for the cell names We will make the location vector a little shorter than the data vector\n",
      "name =[name + str(row) for row in range(loc_length)]\n",
      "# After we build the data we don't want to be in original order\n",
      "random.shuffle(name)\n",
      "\n",
      "\n",
      "#build some random coordinates\n",
      "lat  =[42]*loc_length \n",
      "lon = [-73]*loc_length\n",
      "#clat = np.zeros(loc_length)\n",
      "# Create a random offset from the center location\n",
      "clat = np.random.rand(loc_length)\n",
      "random.shuffle(clat)\n",
      "lat += clat\n",
      "lon += -clat\n",
      "loc =  zip(name,lat,lon)\n",
      "#############################\n",
      "#now create some dummy data\n",
      "######\n",
      "# Let's retrieve some real location data\n",
      "\n",
      "name2, lat, lon = get_loc_linux2.get_loc()\n",
      " \n",
      "if False:\n",
      "    lat = lat.tolist()\n",
      "    lon = lon.tolist()\n",
      "    name2 = name2.tolist()\n",
      " \n",
      "loc = zip(name2,lat,lon)\n",
      "\n",
      "date ='20140100'\n",
      "length_data = 10\n",
      "date =[date + str(row) for row in range(length_data)]\n",
      " \n",
      "dbdata = np.random.randint(0,1500,length_data)\n",
      "\n",
      "# Randomly shuffle the columns, first transpose since the shuffle works on rows\n",
      "# this helps verify that we are finding the right matches.\n",
      "random.shuffle(name)\n",
      "\n",
      "#loc = np.transpose(loc)\n",
      "#These Statements just create a random set of data in the range of 0 to 750.  We want the data item in \n",
      "#position 3.  the actual data is formatted this way so we have to hard code it.\n",
      "\n",
      "dbdata2 = np.random.randint(0,1750,length_data)\n",
      "dbdata1 = np.random.randint(0,350,length_data)\n",
      "dbdata3 = zip(date,name2,dbdata1,dbdata2)\n",
      "\n",
      "print \"How long is our data set?  \", \"Location=\", len(loc),\"dbdata =\", len(dbdata)\n",
      " \n",
      "#print loc\n",
      "#print dbdata"
     ],
     "language": "python",
     "metadata": {},
     "outputs": [
      {
       "output_type": "stream",
       "stream": "stdout",
       "text": [
        "wms_kpi.dbo.location\n",
        "select * from wms_kpi.dbo.location\n",
        "How long is our data set?  "
       ]
      },
      {
       "output_type": "stream",
       "stream": "stdout",
       "text": [
        " Location= 1755 dbdata = 10\n"
       ]
      }
     ],
     "prompt_number": 2
    },
    {
     "cell_type": "code",
     "collapsed": false,
     "input": [
      "# Get real data\n",
      "# Call getwcdma.py\n",
      "start = time.time()\n",
      " \n",
      "cellid, dbdata2 = getwcdma_linux.getwcdma()\n",
      "end = time.time()\n",
      "print end - start, \" seconds to get WCDMA data from the dbase\"\n",
      "\n",
      "#dbdata2 =tuple(map(tuple,dbdata2))\n",
      "#Now I have to convert the dictionary item to a list?\n",
      "#dbdata2 = dbdata2.\n",
      "dbdata = zip(cellid,dbdata2)\n",
      "\n",
      "print len(dbdata), dbdata2[4], cellid[4]\n",
      "print dbdata2[4] * dbdata2[2], dbdata[4][0], loc[4][0]\n",
      " \n",
      "if loc[4][0] == dbdata[4][0]:\n",
      "    print \"name = \", loc[9]\n",
      "else:\n",
      "    print \"cell \", cellid[4], loc[4][0], loc[4][1]"
     ],
     "language": "python",
     "metadata": {},
     "outputs": [
      {
       "output_type": "stream",
       "stream": "stdout",
       "text": [
        "0.882249116898  seconds to get WCDMA data from the dbase\n",
        "1734 [ 1433.] ['NYCMU5078A']\n",
        "[ 1448763.] ['NYCMU5078A'] ['NYCMU0610I']\n",
        "cell  ['NYCMU5078A'] ['NYCMU0610I'] [ 40.74039459]\n"
       ]
      }
     ],
     "prompt_number": 3
    },
    {
     "cell_type": "code",
     "collapsed": false,
     "input": [
      "#Test call of cell_mm\n",
      "#Inputs needed are the location data and dbdata. \n",
      "import cell_mm_linux  #need to change to _linux\n",
      "import time\n",
      "\n",
      "smean =[]\n",
      "ind =[]\n",
      "\n",
      "# Get a mean and a list of the matching cells\n",
      "start = time.time()\n",
      "ind, smean = cell_mm_linux.cell_mm(loc,dbdata)\n",
      "end = time.time()\n",
      "print end - start, \" seconds to calculate the mean and correlate cells\"\n",
      "\n",
      "# Test output\n",
      "# The index rows indicate where the location cell id matched data from the date, so the rows will\n",
      "# match the correct location indices.\n",
      "import numpy\n",
      " \n",
      "mXa = map(lambda row: loc[row][1],ind[0])\n",
      "mXb = map(lambda row: loc[row][2],ind[0])\n",
      "cd1 = map(lambda row: smean[row],ind[0])\n",
      "if True:\n",
      "    cc = cd1/np.linalg.norm(cd1)\n",
      "else:\n",
      "    cc =cd1\n",
      "a = np.array(mXa)\n",
      "b = np.array(mXb)\n",
      "if True:\n",
      "   \n",
      "    mXa = a/np.linalg.norm(a)\n",
      "   \n",
      "    mXb = b/np.linalg.norm(b)\n",
      "else:\n",
      "    mXa =a\n",
      "    mXb =b\n",
      "\n",
      "mX = np.column_stack((mXa,mXb))\n",
      "length_data = len(cc)\n",
      "print len(mX), mX\n",
      "#print mX.reshape(10,2)\n",
      "#print \"a =\\n\", a, \"length ? =\", len(a)\n",
      "print \"cc = \\n\", cc, \"length ? = \", len(cc)\n",
      "# Now we have our input data for the GP."
     ],
     "language": "python",
     "metadata": {},
     "outputs": [
      {
       "output_type": "stream",
       "stream": "stdout",
       "text": [
        "8.7799642086  seconds to calculate the mean and correlate cells\n",
        "1711 [[ 0.02416811 -0.02417596]\n",
        " [ 0.02416811 -0.02417596]\n",
        " [ 0.02416811 -0.02417596]\n",
        " ..., \n",
        " [ 0.02419199 -0.02416414]\n",
        " [ 0.02419199 -0.02416414]\n",
        " [ 0.02419199 -0.02416414]]\n",
        "cc = \n",
        "[ 0.01424088  0.01424088  0.01424088 ...,  0.01505084  0.01505084\n",
        "  0.01505084] length ? =  1711\n"
       ]
      }
     ],
     "prompt_number": 5
    },
    {
     "cell_type": "code",
     "collapsed": false,
     "input": [
      "# sample inputs and outputs\n",
      "#X = np.random.uniform(-3.,3.,(length_data,2))\n",
      "# Let's change X to [a b]\n",
      "X =mX\n",
      "#Y = np.sin(X[:,0:1]) * np.sin(X[:,1:2])+np.random.randn(length_data,1)*0.05\n",
      "\n",
      "\n",
      "mYc = np.array(cc)\n",
      "Y = mYc.reshape(length_data,1)\n",
      "\n",
      "#print \"Y =\", Y, \"\\n\", mYc.reshape(length_data,1)\n",
      "\n",
      "start = time.time()\n",
      "# define kernel\n",
      "ker = GPy.kern.Matern52(2,ARD=True) + GPy.kern.white(2)\n",
      "#ker = GPy.kern.Matern52(2,ARD=True)  \n",
      "end = time.time()\n",
      "print end - start, \" seconds to build the kernel.\"\n",
      "\n",
      "start = time.time()\n",
      "# create simple GP model\n",
      "m = GPy.models.GPRegression(X,Y,ker)\n",
      "end = time.time()\n",
      "print end - start, \" seconds to perform the regression\"\n",
      "\n",
      "# contrain all parameters to be positive\n",
      "m.constrain_positive('')\n",
      "# Add statement to plot inline\n",
      "%pylab --no-import-all inline\n",
      "# optimize and plot\n",
      "m.optimize('tnc', max_f_eval = 50)\n",
      "m.plot()\n",
      "\n",
      "print len(Y), ' x ', len(X), \"Data points\"\n",
      "print(m)\n"
     ],
     "language": "python",
     "metadata": {},
     "outputs": [
      {
       "output_type": "stream",
       "stream": "stdout",
       "text": [
        "0.000416040420532  seconds to build the kernel.\n",
        "creating /tmp/scipy-vagrant-ErZ5F5/python27_intermediate/compiler_3f18ebd647dd1f45849686493a04d2f6"
       ]
      },
      {
       "output_type": "stream",
       "stream": "stdout",
       "text": [
        "\n"
       ]
      },
      {
       "output_type": "stream",
       "stream": "stdout",
       "text": [
        "8.34444999695  seconds to perform the regression\n",
        "Warning: re-constraining these parameters\n",
        "Mat52_variance\n",
        "Mat52_lengthscale_0\n",
        "Mat52_lengthscale_1\n",
        "white_variance\n",
        "noise_variance\n",
        "Populating the interactive namespace from numpy and matplotlib"
       ]
      },
      {
       "output_type": "stream",
       "stream": "stdout",
       "text": [
        "\n",
        "1711"
       ]
      },
      {
       "output_type": "stream",
       "stream": "stdout",
       "text": [
        "  x  1711 Data points\n",
        "\n",
        "Log-likelihood: 5.277e+03\n",
        "\n",
        "         Name          |  Value   |  Constraints  |  Ties  |  prior  \n",
        "---------------------------------------------------------------------\n",
        "    Mat52_variance     |  0.0005  |     (+ve)     |        |         \n",
        "  Mat52_lengthscale_0  |  0.7291  |     (+ve)     |        |         \n",
        "  Mat52_lengthscale_1  |  0.9477  |     (+ve)     |        |         \n",
        "    white_variance     |  0.0001  |     (+ve)     |        |         \n",
        "    noise_variance     |  0.0001  |     (+ve)     |        |         \n",
        "\n"
       ]
      },
      {
       "metadata": {},
       "output_type": "display_data",
       "png": "[encoded data removed]",
       "text": [
        "<matplotlib.figure.Figure at 0x59c6d50>"
       ]
      }
     ],
     "prompt_number": 6
    },
    {
     "cell_type": "code",
     "collapsed": false,
     "input": [],
     "language": "python",
     "metadata": {},
     "outputs": []
    }
   ],
   "metadata": {}
  }
 ]
}